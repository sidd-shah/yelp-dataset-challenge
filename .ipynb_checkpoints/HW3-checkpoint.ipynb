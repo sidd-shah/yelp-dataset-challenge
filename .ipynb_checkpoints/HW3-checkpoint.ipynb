{
 "cells": [
  {
   "cell_type": "markdown",
   "metadata": {},
   "source": [
    "##  <center>HW3</center>\n",
    "## <center>Siddharth Shah</center>\n",
    "## <center>110957500</center>"
   ]
  },
  {
   "cell_type": "markdown",
   "metadata": {},
   "source": [
    "## Q1 \n",
    "Construct a review network, where nodes are business and users, edges are reviews. Plot degree distributions (x-axis is nodes’ degrees, y-axis is the amount of nodes having that degree) of business and users, separately. You can try to plot the figures in linear scale and log scale. Which is better? Why? What you can learn from the distributions?"
   ]
  },
  {
   "cell_type": "code",
   "execution_count": null,
   "metadata": {
    "collapsed": true
   },
   "outputs": [],
   "source": []
  },
  {
   "cell_type": "code",
   "execution_count": 1,
   "metadata": {
    "collapsed": false
   },
   "outputs": [],
   "source": [
    "%matplotlib inline\n",
    "import pandas as pd\n",
    "import matplotlib.pyplot as plt\n",
    "import numpy as np\n",
    "from scipy.sparse import csr_matrix, coo_matrix\n",
    "from scipy.stats import pearsonr, spearmanr\n",
    "import networkx as nx\n",
    "import ast"
   ]
  },
  {
   "cell_type": "markdown",
   "metadata": {},
   "source": [
    "Convert all the json files to csv and then write them to disk\n",
    "#### NOTE: Run the below 5 cells only for the first time"
   ]
  },
  {
   "cell_type": "code",
   "execution_count": 2,
   "metadata": {
    "collapsed": false
   },
   "outputs": [],
   "source": [
    "%run json_to_csv_converter.py hw3_data/yelp_dataset_challenge_academic_dataset/yelp_academic_dataset_business.json"
   ]
  },
  {
   "cell_type": "code",
   "execution_count": 3,
   "metadata": {
    "collapsed": true
   },
   "outputs": [],
   "source": [
    "%run json_to_csv_converter.py hw3_data/yelp_dataset_challenge_academic_dataset/yelp_academic_dataset_user.json"
   ]
  },
  {
   "cell_type": "code",
   "execution_count": 4,
   "metadata": {
    "collapsed": true
   },
   "outputs": [],
   "source": [
    "%run json_to_csv_converter.py hw3_data/yelp_dataset_challenge_academic_dataset/yelp_academic_dataset_review.json"
   ]
  },
  {
   "cell_type": "code",
   "execution_count": 5,
   "metadata": {
    "collapsed": false
   },
   "outputs": [
    {
     "name": "stderr",
     "output_type": "stream",
     "text": [
      "/Library/Python/2.7/site-packages/IPython/core/interactiveshell.py:2717: DtypeWarning: Columns (1,4,7,17,26,29,49,60,62,79,86,94) have mixed types. Specify dtype option on import or set low_memory=False.\n",
      "  interactivity=interactivity, compiler=compiler, result=result)\n"
     ]
    }
   ],
   "source": [
    "businesses = pd.read_csv('hw3_data/yelp_dataset_challenge_academic_dataset/yelp_academic_dataset_business.csv')\n",
    "users = pd.read_csv('hw3_data/yelp_dataset_challenge_academic_dataset/yelp_academic_dataset_user.csv')\n",
    "reviews = pd.read_csv('hw3_data/yelp_dataset_challenge_academic_dataset/yelp_academic_dataset_review.csv')"
   ]
  },
  {
   "cell_type": "code",
   "execution_count": 8,
   "metadata": {
    "collapsed": false
   },
   "outputs": [],
   "source": [
    "users['user_index'] = users.index"
   ]
  },
  {
   "cell_type": "code",
   "execution_count": 9,
   "metadata": {
    "collapsed": false
   },
   "outputs": [],
   "source": [
    "businesses['business_index'] = businesses.index"
   ]
  },
  {
   "cell_type": "markdown",
   "metadata": {},
   "source": [
    "Firstly, we are extracting restaurants from all the businesses so that the correlations make more sense when we are restricted to a particular domain.\n",
    "For this, we'll list all the categories and then try to use the categories which relate to restaurants to extract the restaurants."
   ]
  },
  {
   "cell_type": "code",
   "execution_count": null,
   "metadata": {
    "collapsed": false
   },
   "outputs": [],
   "source": [
    "\n",
    "categories = [ ast.literal_eval(y)for y in businesses['categories']]\n",
    "businesses['categories']\n",
    "categories_colasced = []\n",
    "[categories_colasced.extend(x) for x in categories]\n",
    "sorted(set(categories_colasced))"
   ]
  },
  {
   "cell_type": "markdown",
   "metadata": {},
   "source": [
    "From the above list of categories, we are selecting categories which are pertaining to restaurants. We see that there are multiple categories expressing cuisine etc. However, each of those categories containing food have a cafe or a restaurant in the list of categories. Thus we will add all businesses with categories as  'Cafes' 'Restuarants' 'Bars' 'Beer Bar' 'Breakfast & Brunch'  'Breweries' 'Buffets' 'Ethnic Food' 'Falafel' 'Fast Food' 'Fish & Chips' 'Food Trucks' 'Hot Dogs' 'Ice Cream & Frozen Yogurt' 'Sports Bars'"
   ]
  },
  {
   "cell_type": "code",
   "execution_count": 11,
   "metadata": {
    "collapsed": false,
    "scrolled": true
   },
   "outputs": [
    {
     "name": "stdout",
     "output_type": "stream",
     "text": [
      "26729\n"
     ]
    },
    {
     "name": "stderr",
     "output_type": "stream",
     "text": [
      "/Library/Python/2.7/site-packages/ipykernel/__main__.py:19: SettingWithCopyWarning: \n",
      "A value is trying to be set on a copy of a slice from a DataFrame.\n",
      "Try using .loc[row_indexer,col_indexer] = value instead\n",
      "\n",
      "See the caveats in the documentation: http://pandas.pydata.org/pandas-docs/stable/indexing.html#indexing-view-versus-copy\n"
     ]
    }
   ],
   "source": [
    "food_categories = ['Cafes',\n",
    "'Restaurants',\n",
    "'Bars',\n",
    "'Beer Bar',\n",
    "'Breakfast & Brunch',\n",
    "'Breweries' 'Buffets',\n",
    "'Ethnic Food',\n",
    "'Falafel',\n",
    "'Fast Food',\n",
    "'Fish & Chips',\n",
    "'Food Trucks',\n",
    "'Hot Dogs',\n",
    "'Ice Cream & Frozen Yogurt' ,\n",
    "'Sports Bars']\n",
    "restaurant_categories = [ x for x in businesses['categories'] if 'Restaurants' in x ]\n",
    "print len(restaurant_categories)\n",
    "restaurants = businesses[businesses['categories'].isin(restaurant_categories)]\n",
    "index  = [i for i in xrange(len(restaurants))]\n",
    "restaurants['restaurant_index'] = index\n",
    "restaurants = restaurants.set_index('restaurant_index')"
   ]
  },
  {
   "cell_type": "markdown",
   "metadata": {},
   "source": [
    "We have extracted 26729 restaurants from a total of around 85000 businesses. We'll restrict our calculations only to restaurants. We have also reindexed the restaurants dataframe which will make further calculations easier"
   ]
  },
  {
   "cell_type": "code",
   "execution_count": 12,
   "metadata": {
    "collapsed": false
   },
   "outputs": [],
   "source": [
    "restaurants['restaurant_index'] = restaurants.index"
   ]
  },
  {
   "cell_type": "code",
   "execution_count": 13,
   "metadata": {
    "collapsed": false
   },
   "outputs": [],
   "source": [
    "reviews = reviews.loc[reviews['business_id'].isin(restaurants['business_id'])]"
   ]
  },
  {
   "cell_type": "markdown",
   "metadata": {},
   "source": [
    "We are performing a join, first on users and reviews and then on user_reviews(result of the first) and restaurants.\n",
    "Thus we are creating a table like network of users and restaurants as nodes and reviews as the edges connecting them. This will give us all reviews of restaurants along with user_index and restaurant_index which will allow easy calculations.\n",
    "<br>\n",
    "Note: we are using inner join here so that we do not have users with no reviews or businesses with no reviews."
   ]
  },
  {
   "cell_type": "code",
   "execution_count": 14,
   "metadata": {
    "collapsed": false
   },
   "outputs": [],
   "source": [
    "users_reviews = pd.merge(users,reviews, on='user_id', how='inner')"
   ]
  },
  {
   "cell_type": "code",
   "execution_count": 15,
   "metadata": {
    "collapsed": false
   },
   "outputs": [],
   "source": [
    "ubr = pd.merge(users_reviews, restaurants, on='business_id', how='inner')"
   ]
  },
  {
   "cell_type": "markdown",
   "metadata": {},
   "source": [
    "We can create a sparse matrix of shape (n,n) where n  = total_no_restaurants + total_no_users"
   ]
  },
  {
   "cell_type": "markdown",
   "metadata": {},
   "source": [
    "Below we are creating performing a group by on user_id and business_id and aggregating on unique users and restaurants. This gives us the outgoing edges per user and incoming edges per business."
   ]
  },
  {
   "cell_type": "code",
   "execution_count": 16,
   "metadata": {
    "collapsed": false
   },
   "outputs": [],
   "source": [
    "user_nodes = ubr[['user_id','review_id','business_id']].groupby('user_id').agg({'business_id':pd.Series.nunique})\n",
    "business_nodes = ubr[['user_id','review_id','business_id']].groupby('business_id').agg({'user_id':pd.Series.nunique})"
   ]
  },
  {
   "cell_type": "code",
   "execution_count": 17,
   "metadata": {
    "collapsed": false
   },
   "outputs": [
    {
     "data": {
      "text/plain": [
       "478841"
      ]
     },
     "execution_count": 17,
     "metadata": {},
     "output_type": "execute_result"
    }
   ],
   "source": [
    "len(user_nodes)"
   ]
  },
  {
   "cell_type": "code",
   "execution_count": 18,
   "metadata": {
    "collapsed": false
   },
   "outputs": [],
   "source": [
    "business_nodes['log_user_id'] = map((lambda x : np.log(x)),business_nodes['user_id'])\n",
    "user_nodes['log_business_id'] = map((lambda x : np.log(x)),user_nodes['business_id'])\n"
   ]
  },
  {
   "cell_type": "code",
   "execution_count": 19,
   "metadata": {
    "collapsed": false,
    "scrolled": true
   },
   "outputs": [
    {
     "data": {
      "image/png": "[encoded data removed]",
      "text/plain": [
       "<matplotlib.figure.Figure at 0x10b542c90>"
      ]
     },
     "metadata": {},
     "output_type": "display_data"
    }
   ],
   "source": [
    "plt.hist(business_nodes['user_id'])\n",
    "plt.title('Histogram of number of business with X reviews')\n",
    "plt.xlabel('Number of reviews')\n",
    "plt.show()"
   ]
  },
  {
   "cell_type": "markdown",
   "metadata": {},
   "source": [
    "As we can see in above plot, majority of the business have reviews between 0-500. There are some business with very huge number of reviews. Because of these extremely popular business, our distribution is skewed to the left."
   ]
  },
  {
   "cell_type": "code",
   "execution_count": 20,
   "metadata": {
    "collapsed": false,
    "scrolled": true
   },
   "outputs": [
    {
     "data": {
      "image/png": "[encoded data removed]",
      "text/plain": [
       "<matplotlib.figure.Figure at 0x10b7a0a90>"
      ]
     },
     "metadata": {},
     "output_type": "display_data"
    }
   ],
   "source": [
    "plt.hist(business_nodes['log_user_id'])\n",
    "plt.xlabel('Log(In Degree of reviews for businesses)')\n",
    "plt.title('Histogram of Log of number of business with X reviews')\n",
    "plt.show()"
   ]
  },
  {
   "cell_type": "markdown",
   "metadata": {},
   "source": [
    "On taking log the number of reviews, we attain the above map, which is a better distribution that the previous one. This is because log helps reduce the impact of outliers on the map, thus resulting in a much more readable and insightful map."
   ]
  },
  {
   "cell_type": "code",
   "execution_count": 89,
   "metadata": {
    "collapsed": false
   },
   "outputs": [
    {
     "data": {
      "image/png": "[encoded data removed]",
      "text/plain": [
       "<matplotlib.figure.Figure at 0x1509c96d0>"
      ]
     },
     "metadata": {},
     "output_type": "display_data"
    }
   ],
   "source": [
    "plt.hist(user_nodes['business_id'][:])\n",
    "plt.xlabel('Out degree of reviews for users)')\n",
    "plt.title('Histogram of number of user with X reviews')\n",
    "plt.show()"
   ]
  },
  {
   "cell_type": "markdown",
   "metadata": {},
   "source": [
    "As we can see in above plot, majority of the users have reviews between 0-175. There are some users with very huge number of reviews. Because of these users who write so many reviews, our distribution is skewed to the left."
   ]
  },
  {
   "cell_type": "code",
   "execution_count": 22,
   "metadata": {
    "collapsed": false
   },
   "outputs": [
    {
     "data": {
      "image/png": "[encoded data removed]",
      "text/plain": [
       "<matplotlib.figure.Figure at 0x10b79eb50>"
      ]
     },
     "metadata": {},
     "output_type": "display_data"
    }
   ],
   "source": [
    "plt.hist(user_nodes['log_business_id'][:])\n",
    "plt.xlabel('Log(Out degree of reviews for users)')\n",
    "plt.title('Histogram of log of number of user with X reviews')\n",
    "plt.show()"
   ]
  },
  {
   "cell_type": "markdown",
   "metadata": {
    "collapsed": true
   },
   "source": [
    "On taking log the number of reviews, we attain the above map, which is a better distribution that the previous one. This is because log helps reduce the impact of outliers on the map, thus resulting in a much more readable and insightful map. Based on the above we can conclude that maximum users write around 10 reviews in their lifetime on yelp."
   ]
  },
  {
   "cell_type": "markdown",
   "metadata": {},
   "source": [
    "## Q2\n",
    "<b>Run pagerank algorithm on the review network (note it’s undirected graph). Which are top 100 business with highest pagerank scores? Store and submit the results in Json format. Example answer. For efficient computation, you may want to go through this before you start.</b>"
   ]
  },
  {
   "cell_type": "markdown",
   "metadata": {},
   "source": [
    "#### Initial Thoughts\n",
    "\n",
    "In order to formulate the above data to fit the PageRank algorithm, we need to do some manipulation of the data.\n",
    "We can use a matrix for all users vs business. However that matrix would be of the size of 10^10, which is impossible to store in memory. Thus we need a more efficient solution. \n",
    "\n",
    "An improvement would be using an Adjacency list, where we store lists of business and each business would have lists of users who have reviewed it.\n",
    "\n",
    "In order to apply PageRank, we need details on multiple parameters.\n",
    "First, we need the review score provided by each user.\n",
    "Also, we need the user score. The user score is important here as every user should have different level of importance attached to them. For example, a user who frequently visits restaurants and reviews all of them, should have a higher score, as he/she has more knowledge about restaurants and is much more diverse compared to a user who visits very few restaurants and reviews even fewer.\n"
   ]
  },
  {
   "cell_type": "code",
   "execution_count": 23,
   "metadata": {
    "collapsed": false
   },
   "outputs": [
    {
     "data": {
      "text/plain": [
       "713285"
      ]
     },
     "execution_count": 23,
     "metadata": {},
     "output_type": "execute_result"
    }
   ],
   "source": [
    "network_shape = len(users)+ len(restaurants)\n",
    "network_shape"
   ]
  },
  {
   "cell_type": "code",
   "execution_count": 24,
   "metadata": {
    "collapsed": false
   },
   "outputs": [],
   "source": [
    "row_index = ubr['restaurant_index'].append(ubr['user_index']+ len(restaurants))\n",
    "column_index = (ubr['user_index']).append(ubr['restaurant_index']+ len(users))\n",
    "data = [1] * (len(ubr)*2)"
   ]
  },
  {
   "cell_type": "code",
   "execution_count": 25,
   "metadata": {
    "collapsed": false
   },
   "outputs": [
    {
     "data": {
      "text/plain": [
       "3261424"
      ]
     },
     "execution_count": 25,
     "metadata": {},
     "output_type": "execute_result"
    }
   ],
   "source": [
    "len(column_index)"
   ]
  },
  {
   "cell_type": "code",
   "execution_count": 26,
   "metadata": {
    "collapsed": false
   },
   "outputs": [
    {
     "name": "stdout",
     "output_type": "stream",
     "text": [
      "CPU times: user 536 ms, sys: 27.3 ms, total: 563 ms\n",
      "Wall time: 604 ms\n"
     ]
    }
   ],
   "source": [
    "%time csr = csr_matrix((data, (row_index,column_index)), shape = (network_shape, network_shape))"
   ]
  },
  {
   "cell_type": "code",
   "execution_count": 27,
   "metadata": {
    "collapsed": true
   },
   "outputs": [],
   "source": [
    "def compute_PageRank(G, beta=0.85, epsilon=10**-4):\n",
    "    '''\n",
    "    Efficient computation of the PageRank values using a sparse adjacency \n",
    "    matrix and the iterative power method.\n",
    "    \n",
    "    Parameters\n",
    "    ----------\n",
    "    G : boolean adjacency matrix. np.bool8\n",
    "        If the element j,i is True, means that there is a link from i to j.\n",
    "    beta: 1-teleportation probability.\n",
    "    epsilon: stop condition. Minimum allowed amount of change in the PageRanks\n",
    "        between iterations.\n",
    "\n",
    "    Returns\n",
    "    -------\n",
    "    output : tuple\n",
    "        PageRank array normalized top one.\n",
    "        Number of iterations.\n",
    "\n",
    "    '''    \n",
    "    #Test adjacency matrix is OK\n",
    "    n,_ = G.shape\n",
    "    assert(G.shape==(n,n))\n",
    "    #Constants Speed-UP\n",
    "    deg_out_beta = G.sum(axis=0).T/beta #vector\n",
    "    #Initialize\n",
    "    ranks = np.ones((n,1))/n #vector\n",
    "    time = 0\n",
    "    flag = True\n",
    "    while flag:        \n",
    "        time +=1\n",
    "        with np.errstate(divide='ignore'): # Ignore division by 0 on ranks/deg_out_beta\n",
    "            new_ranks = G.dot((ranks/deg_out_beta)) #vector\n",
    "        #Leaked PageRank\n",
    "        new_ranks += (1-new_ranks.sum())/n\n",
    "        #Stop condition\n",
    "        if np.linalg.norm(ranks-new_ranks,ord=1)<=epsilon:\n",
    "            flag = False        \n",
    "        ranks = new_ranks\n",
    "    return(ranks, time)"
   ]
  },
  {
   "cell_type": "code",
   "execution_count": 28,
   "metadata": {
    "collapsed": false
   },
   "outputs": [
    {
     "name": "stdout",
     "output_type": "stream",
     "text": [
      "==> Computing PageRank\n",
      "CPU times: user 490 ms, sys: 146 ms, total: 637 ms\n",
      "Wall time: 691 ms\n",
      "\n",
      "Iterations: 15\n",
      "Element with the highest PageRank: 20003\n"
     ]
    }
   ],
   "source": [
    "print '==> Computing PageRank'\n",
    "%time pr_norm,iters = compute_PageRank(csr)\n",
    "print '\\nIterations: {0}'.format(iters)\n",
    "print 'Element with the highest PageRank: {0}'.format(np.argmax(pr_norm)+1)"
   ]
  },
  {
   "cell_type": "code",
   "execution_count": 29,
   "metadata": {
    "collapsed": false
   },
   "outputs": [],
   "source": [
    "b_ranks = pr_norm[:len(restaurants)]\n",
    "b_ranks_array = np.array(b_ranks.reshape(1,len(restaurants)))\n",
    "b_ranks_series = pd.Series(b_ranks_array[0,:])\n",
    "r_ranks = b_ranks_series.sort_values(ascending=False)"
   ]
  },
  {
   "cell_type": "code",
   "execution_count": 30,
   "metadata": {
    "collapsed": false
   },
   "outputs": [
    {
     "name": "stderr",
     "output_type": "stream",
     "text": [
      "/Library/Python/2.7/site-packages/ipykernel/__main__.py:3: SettingWithCopyWarning: \n",
      "A value is trying to be set on a copy of a slice from a DataFrame.\n",
      "Try using .loc[row_indexer,col_indexer] = value instead\n",
      "\n",
      "See the caveats in the documentation: http://pandas.pydata.org/pandas-docs/stable/indexing.html#indexing-view-versus-copy\n",
      "  app.launch_new_instance()\n"
     ]
    }
   ],
   "source": [
    "r_ranks = r_ranks[:100]\n",
    "top_100 = restaurants.iloc[r_ranks.index]\n",
    "top_100['pagerank'] = r_ranks"
   ]
  },
  {
   "cell_type": "code",
   "execution_count": 88,
   "metadata": {
    "collapsed": false
   },
   "outputs": [
    {
     "name": "stdout",
     "output_type": "stream",
     "text": [
      "Wrote the result to file HW3.json in the format as required\n"
     ]
    }
   ],
   "source": [
    "result_json = {}\n",
    "i=0\n",
    "for row in top_100.iterrows():\n",
    "    current_json = {\n",
    "        \"pagerank\" : row[1]['pagerank'],\n",
    "        \"businessId\": row[1]['business_id']\n",
    "    }\n",
    "    key = \"Top{0}\".format(i)\n",
    "    result_json[key] = current_json\n",
    "    i+=1\n",
    "    \n",
    "file = open('HW3.json','w')\n",
    "file.write(str(result_json))\n",
    "file.close\n",
    "print \"Wrote the result to file HW3.json in the format as required\""
   ]
  },
  {
   "cell_type": "markdown",
   "metadata": {},
   "source": [
    "## Q3\n",
    "\n",
    "<b>Can you find other ways to rank restaurants? For example, average ratings of restaurants. Define 5 such ranking features and do pair-wise Spearman's rank correlation to see how much each feature correlate with each other. Report p-values using permutation test.</b>"
   ]
  },
  {
   "cell_type": "markdown",
   "metadata": {},
   "source": [
    "#### Spearman and Pearson Comparison\n",
    "Spearman correlation is different from Pearson correlation in the values it processes on. Pearson calculates correlation on actual values and thus is affected by outliers. However, spearman is based on ranking of a particular row in the entire column and thus it is not affected by outliers a lot as difference between Rank 1 and 2 is same as the difference between Rank 100 and Rank 101.\n",
    "<br><br>\n",
    "Now lets find out the attributes which can be used to rank these restaurants and find their correlation"
   ]
  },
  {
   "cell_type": "markdown",
   "metadata": {},
   "source": [
    "We can use the following features to rank the restaurants - \n",
    "* stars\n",
    "* review_count\n",
    "* hours.Friday.close\n",
    "- Alcohol\n",
    "- Price Range\n",
    "* Attributes Score (We'll calculate this from all the restaurant attributes - very high correlation expected with stars)"
   ]
  },
  {
   "cell_type": "markdown",
   "metadata": {},
   "source": [
    "The below function will do a permutation test on given columns and generate a histogram depicting the r values over 100 permutations and will also plot the value for original correlation coefficient to visualize if the correlation is significant."
   ]
  },
  {
   "cell_type": "code",
   "execution_count": 32,
   "metadata": {
    "collapsed": true
   },
   "outputs": [],
   "source": [
    "def do_permutation_test(col1, col2,col1_name, col2_name, original_rvalue, spearman = True):\n",
    "    result = []\n",
    "    column2 = col2.copy(deep=True)\n",
    "    for i in xrange(100):\n",
    "        np.random.shuffle(column2.values)\n",
    "        if spearman:\n",
    "            r,p = spearmanr(col1,column2,axis = 0)\n",
    "        else:\n",
    "            r,p = pearsonr(col1,column2)\n",
    "        result.append(r)\n",
    "    plt.hist(result)\n",
    "    plt.plot(original_rvalue,0,'ro')\n",
    "    plt.annotate('correlation coefficient of {0}'.format(original_rvalue.astype(float)),\n",
    "        xy = (original_rvalue.astype(float),0), xytext = (-20, 20),\n",
    "        textcoords = 'offset points', ha = 'right', va = 'bottom',bbox = dict(boxstyle = 'round,pad=0.5', fc ='yellow',\\\n",
    "                  alpha = 0.5),arrowprops = dict(arrowstyle = '->', connectionstyle = 'arc3,rad=0'))\n",
    "    plt.xlabel(\"Correlation coefficient between {0} and {1}\".format(col1_name, col2_name))"
   ]
  },
  {
   "cell_type": "markdown",
   "metadata": {},
   "source": [
    "### Preparing Rankings for Spearman Correlation"
   ]
  },
  {
   "cell_type": "markdown",
   "metadata": {},
   "source": [
    "### Stars"
   ]
  },
  {
   "cell_type": "markdown",
   "metadata": {},
   "source": [
    "Creating a ranking for the restaurant stars. Here we are using the astype 'category' which allows use to categorise the different values in the column, assigning a unique value for every unique value in the column. We give the ordering of categories, in our case 5 is the best and 1 is the least. These categories internally have another encoding which we'll use as our ranks. In the below case our highest rank will be 0 and lowest will be 4"
   ]
  },
  {
   "cell_type": "code",
   "execution_count": 33,
   "metadata": {
    "collapsed": false
   },
   "outputs": [
    {
     "data": {
      "text/html": [
       "<div>\n",
       "<table border=\"1\" class=\"dataframe\">\n",
       "  <thead>\n",
       "    <tr style=\"text-align: right;\">\n",
       "      <th></th>\n",
       "      <th>stars</th>\n",
       "      <th>rank_stars</th>\n",
       "    </tr>\n",
       "    <tr>\n",
       "      <th>restaurant_index</th>\n",
       "      <th></th>\n",
       "      <th></th>\n",
       "    </tr>\n",
       "  </thead>\n",
       "  <tbody>\n",
       "    <tr>\n",
       "      <th>0</th>\n",
       "      <td>3.5</td>\n",
       "      <td>5</td>\n",
       "    </tr>\n",
       "    <tr>\n",
       "      <th>1</th>\n",
       "      <td>4.5</td>\n",
       "      <td>7</td>\n",
       "    </tr>\n",
       "    <tr>\n",
       "      <th>2</th>\n",
       "      <td>4.0</td>\n",
       "      <td>6</td>\n",
       "    </tr>\n",
       "    <tr>\n",
       "      <th>3</th>\n",
       "      <td>3.5</td>\n",
       "      <td>5</td>\n",
       "    </tr>\n",
       "    <tr>\n",
       "      <th>4</th>\n",
       "      <td>4.0</td>\n",
       "      <td>6</td>\n",
       "    </tr>\n",
       "    <tr>\n",
       "      <th>5</th>\n",
       "      <td>4.5</td>\n",
       "      <td>7</td>\n",
       "    </tr>\n",
       "    <tr>\n",
       "      <th>6</th>\n",
       "      <td>4.0</td>\n",
       "      <td>6</td>\n",
       "    </tr>\n",
       "    <tr>\n",
       "      <th>7</th>\n",
       "      <td>3.5</td>\n",
       "      <td>5</td>\n",
       "    </tr>\n",
       "    <tr>\n",
       "      <th>8</th>\n",
       "      <td>2.5</td>\n",
       "      <td>3</td>\n",
       "    </tr>\n",
       "    <tr>\n",
       "      <th>9</th>\n",
       "      <td>3.0</td>\n",
       "      <td>4</td>\n",
       "    </tr>\n",
       "  </tbody>\n",
       "</table>\n",
       "</div>"
      ],
      "text/plain": [
       "                  stars  rank_stars\n",
       "restaurant_index                   \n",
       "0                   3.5           5\n",
       "1                   4.5           7\n",
       "2                   4.0           6\n",
       "3                   3.5           5\n",
       "4                   4.0           6\n",
       "5                   4.5           7\n",
       "6                   4.0           6\n",
       "7                   3.5           5\n",
       "8                   2.5           3\n",
       "9                   3.0           4"
      ]
     },
     "execution_count": 33,
     "metadata": {},
     "output_type": "execute_result"
    }
   ],
   "source": [
    "restaurants.loc[:,'rank_stars']=restaurants.loc[:,'stars'].astype(\"category\").cat.codes\n",
    "rank_stars = restaurants.loc[:,'rank_stars']\n",
    "restaurants[['stars','rank_stars']][:10]"
   ]
  },
  {
   "cell_type": "code",
   "execution_count": 34,
   "metadata": {
    "collapsed": false
   },
   "outputs": [],
   "source": [
    "stars = restaurants.loc[:,'stars']\n",
    "review_count = restaurants.loc[:,'review_count']"
   ]
  },
  {
   "cell_type": "markdown",
   "metadata": {},
   "source": [
    "### Review Count"
   ]
  },
  {
   "cell_type": "markdown",
   "metadata": {},
   "source": [
    "Just as we generated the rankings for stars we will generate ranking for review count. Review count even though has many unique values will be efficiently converted to ranks by astype category. The ordering will follow the input by itself as they are all integer values"
   ]
  },
  {
   "cell_type": "code",
   "execution_count": 35,
   "metadata": {
    "collapsed": false
   },
   "outputs": [
    {
     "data": {
      "text/html": [
       "<div>\n",
       "<table border=\"1\" class=\"dataframe\">\n",
       "  <thead>\n",
       "    <tr style=\"text-align: right;\">\n",
       "      <th></th>\n",
       "      <th>review_count</th>\n",
       "      <th>rank_review_count</th>\n",
       "    </tr>\n",
       "    <tr>\n",
       "      <th>restaurant_index</th>\n",
       "      <th></th>\n",
       "      <th></th>\n",
       "    </tr>\n",
       "  </thead>\n",
       "  <tbody>\n",
       "    <tr>\n",
       "      <th>0</th>\n",
       "      <td>7</td>\n",
       "      <td>4</td>\n",
       "    </tr>\n",
       "    <tr>\n",
       "      <th>1</th>\n",
       "      <td>26</td>\n",
       "      <td>23</td>\n",
       "    </tr>\n",
       "    <tr>\n",
       "      <th>2</th>\n",
       "      <td>23</td>\n",
       "      <td>20</td>\n",
       "    </tr>\n",
       "    <tr>\n",
       "      <th>3</th>\n",
       "      <td>10</td>\n",
       "      <td>7</td>\n",
       "    </tr>\n",
       "    <tr>\n",
       "      <th>4</th>\n",
       "      <td>10</td>\n",
       "      <td>7</td>\n",
       "    </tr>\n",
       "    <tr>\n",
       "      <th>5</th>\n",
       "      <td>69</td>\n",
       "      <td>66</td>\n",
       "    </tr>\n",
       "    <tr>\n",
       "      <th>6</th>\n",
       "      <td>9</td>\n",
       "      <td>6</td>\n",
       "    </tr>\n",
       "    <tr>\n",
       "      <th>7</th>\n",
       "      <td>8</td>\n",
       "      <td>5</td>\n",
       "    </tr>\n",
       "    <tr>\n",
       "      <th>8</th>\n",
       "      <td>4</td>\n",
       "      <td>1</td>\n",
       "    </tr>\n",
       "    <tr>\n",
       "      <th>9</th>\n",
       "      <td>6</td>\n",
       "      <td>3</td>\n",
       "    </tr>\n",
       "  </tbody>\n",
       "</table>\n",
       "</div>"
      ],
      "text/plain": [
       "                  review_count  rank_review_count\n",
       "restaurant_index                                 \n",
       "0                            7                  4\n",
       "1                           26                 23\n",
       "2                           23                 20\n",
       "3                           10                  7\n",
       "4                           10                  7\n",
       "5                           69                 66\n",
       "6                            9                  6\n",
       "7                            8                  5\n",
       "8                            4                  1\n",
       "9                            6                  3"
      ]
     },
     "execution_count": 35,
     "metadata": {},
     "output_type": "execute_result"
    }
   ],
   "source": [
    "restaurants.loc[:,'rank_review_count'] = restaurants.loc[:,'review_count'].astype(\"category\").cat.codes\n",
    "rank_review_count = restaurants.loc[:,'rank_review_count']\n",
    "restaurants[['review_count','rank_review_count']][:10]"
   ]
  },
  {
   "cell_type": "markdown",
   "metadata": {},
   "source": [
    "### Attribute Score (Over all restaurant attributes)"
   ]
  },
  {
   "cell_type": "markdown",
   "metadata": {},
   "source": [
    "We will consider only the columns which are attributes of restaurants"
   ]
  },
  {
   "cell_type": "markdown",
   "metadata": {},
   "source": [
    "As most of the restaurants have NaN for a lot of attributes which are not related to restaurants but to businesses, it is not a good idea to devise our scoring function based on these attributes. So we will only consider those attributes which have atleast half the values not null. We pick 12000 as our threshold for the number of nan out of our 26729 restaurants."
   ]
  },
  {
   "cell_type": "code",
   "execution_count": 36,
   "metadata": {
    "collapsed": false
   },
   "outputs": [],
   "source": [
    "attributes = restaurants.columns[[item.startswith('attributes') for item in restaurants.columns]]"
   ]
  },
  {
   "cell_type": "code",
   "execution_count": 37,
   "metadata": {
    "collapsed": false
   },
   "outputs": [
    {
     "data": {
      "text/plain": [
       "71"
      ]
     },
     "execution_count": 37,
     "metadata": {},
     "output_type": "execute_result"
    }
   ],
   "source": [
    "len(restaurants[attributes].columns)"
   ]
  },
  {
   "cell_type": "code",
   "execution_count": 38,
   "metadata": {
    "collapsed": false
   },
   "outputs": [],
   "source": [
    "significant_attributes = restaurants[attributes].loc[:,[restaurants[attributes].isnull().sum() < 12000][0]]"
   ]
  },
  {
   "cell_type": "code",
   "execution_count": 39,
   "metadata": {
    "collapsed": false
   },
   "outputs": [
    {
     "data": {
      "text/plain": [
       "35"
      ]
     },
     "execution_count": 39,
     "metadata": {},
     "output_type": "execute_result"
    }
   ],
   "source": [
    "len(significant_attributes.columns)"
   ]
  },
  {
   "cell_type": "code",
   "execution_count": 40,
   "metadata": {
    "collapsed": false,
    "scrolled": false
   },
   "outputs": [
    {
     "data": {
      "text/plain": [
       "Index([u'attributes.Ambience.divey', u'attributes.Good For.latenight',\n",
       "       u'attributes.Outdoor Seating', u'attributes.Alcohol',\n",
       "       u'attributes.Ambience.classy', u'attributes.Parking.lot',\n",
       "       u'attributes.Ambience.touristy', u'attributes.Good For.brunch',\n",
       "       u'attributes.Waiter Service', u'attributes.Parking.street',\n",
       "       u'attributes.Ambience.hipster', u'attributes.Price Range',\n",
       "       u'attributes.Good For.breakfast', u'attributes.Parking.garage',\n",
       "       u'attributes.Accepts Credit Cards', u'attributes.Good For.lunch',\n",
       "       u'attributes.Parking.valet', u'attributes.Take-out',\n",
       "       u'attributes.Good For.dessert', u'attributes.Takes Reservations',\n",
       "       u'attributes.Ambience.trendy', u'attributes.Delivery',\n",
       "       u'attributes.Wi-Fi', u'attributes.Caters',\n",
       "       u'attributes.Ambience.intimate', u'attributes.Good For.dinner',\n",
       "       u'attributes.Good for Kids', u'attributes.Parking.validated',\n",
       "       u'attributes.Has TV', u'attributes.Ambience.casual',\n",
       "       u'attributes.Noise Level', u'attributes.Attire',\n",
       "       u'attributes.Good For Groups', u'attributes.Ambience.romantic',\n",
       "       u'attributes.Ambience.upscale'],\n",
       "      dtype='object')"
      ]
     },
     "execution_count": 40,
     "metadata": {},
     "output_type": "execute_result"
    }
   ],
   "source": [
    "significant_attributes.columns"
   ]
  },
  {
   "cell_type": "markdown",
   "metadata": {},
   "source": [
    "Thus, we have reduced the number of columns to 35, which are pertaining to restaurants have atleast half their cells filled"
   ]
  },
  {
   "cell_type": "markdown",
   "metadata": {},
   "source": [
    "Now we remove restaurants which have all attributes as NaN, as assigning these restaurants with the mean does not make much sense as they don't have even 1 attribute specified."
   ]
  },
  {
   "cell_type": "code",
   "execution_count": 41,
   "metadata": {
    "collapsed": false
   },
   "outputs": [
    {
     "data": {
      "text/plain": [
       "26300"
      ]
     },
     "execution_count": 41,
     "metadata": {},
     "output_type": "execute_result"
    }
   ],
   "source": [
    "significant_attributes = significant_attributes.loc[~significant_attributes.isnull().all(axis=1)]\n",
    "len(significant_attributes)"
   ]
  },
  {
   "cell_type": "markdown",
   "metadata": {},
   "source": [
    "After deleting the rows with all nan values, we now have 26,300 restaurants. We will now fill all the remaining nan values with the mean or the meadian of that column."
   ]
  },
  {
   "cell_type": "code",
   "execution_count": 42,
   "metadata": {
    "collapsed": false
   },
   "outputs": [],
   "source": [
    "significant_attributes = significant_attributes.fillna(significant_attributes.mean())"
   ]
  },
  {
   "cell_type": "code",
   "execution_count": 43,
   "metadata": {
    "collapsed": false
   },
   "outputs": [],
   "source": [
    "attributes = restaurants.columns[[item.startswith('attributes') for item in restaurants.columns]]"
   ]
  },
  {
   "cell_type": "markdown",
   "metadata": {},
   "source": [
    "#### Cleaning certain attributes"
   ]
  },
  {
   "cell_type": "markdown",
   "metadata": {},
   "source": [
    "We need to perform some data manipulation on the some of the columns like 'attributes.Wi-Fi','attributes.Noise Level','attributes.Attire','attributes.Alcohol' which have values other than just True or False.\n",
    "We can convert all values to be represented by numbers including True as 1 and False as 0."
   ]
  },
  {
   "cell_type": "markdown",
   "metadata": {},
   "source": [
    "##### Wi-fi\n",
    "Here we are changing the values for Wi-Fi to categories and rating them to as no-wifi < paid wifi < free wifi as free wifi should ideally attract more customers and carry the best score."
   ]
  },
  {
   "cell_type": "code",
   "execution_count": 44,
   "metadata": {
    "collapsed": false
   },
   "outputs": [],
   "source": [
    "significant_attributes.loc[:,'attributes.Wi-Fi'] = significant_attributes.loc[:,'attributes.Wi-Fi'].astype(\"category\", categories=['no','paid','free'], ordered=True).cat.codes"
   ]
  },
  {
   "cell_type": "markdown",
   "metadata": {},
   "source": [
    "##### Noise Level\n",
    "We are modifying the Noise level to categories average, loud/quiet, very_loud with the ordering very_loud <  quiet/loud < average assuming that people love places where they can listen to music and also talk to their friends."
   ]
  },
  {
   "cell_type": "code",
   "execution_count": 45,
   "metadata": {
    "collapsed": false
   },
   "outputs": [],
   "source": [
    "significant_attributes.loc[:,'attributes.Noise Level'] = significant_attributes.loc[:,'attributes.Noise Level'].replace(\"loud\",\"loud/quiet\").replace(\"quiet\", \"loud/quiet\").astype(\"category\", categories=['very_loud','loud/quiet','average'], ordered=True).cat.codes"
   ]
  },
  {
   "cell_type": "markdown",
   "metadata": {},
   "source": [
    "##### Attire\n",
    "The attire that a restaurant expects can say a lot about how classy it is. In our data, we have 3 categories for attire. We will order them as casual < formal < dressy"
   ]
  },
  {
   "cell_type": "code",
   "execution_count": 46,
   "metadata": {
    "collapsed": false
   },
   "outputs": [],
   "source": [
    "significant_attributes.loc[:,'attributes.Attire'] = significant_attributes.loc[:,'attributes.Attire'].astype(\"category\", categories=['casual','formal','dressy'], ordered=True).cat.codes"
   ]
  },
  {
   "cell_type": "markdown",
   "metadata": {},
   "source": [
    "##### Alcohol\n",
    "Having alcohol in a restaurant definitely increases the popularity of the restaurant. We will order the categories for out data as none < beer and wine < full bar"
   ]
  },
  {
   "cell_type": "code",
   "execution_count": 47,
   "metadata": {
    "collapsed": false
   },
   "outputs": [],
   "source": [
    "significant_attributes.loc[:,'attributes.Alcohol'] = significant_attributes.loc[:,'attributes.Alcohol'].astype(\"category\", categories=['none','beer_and_wine','full_bar'], ordered=True).cat.codes"
   ]
  },
  {
   "cell_type": "markdown",
   "metadata": {},
   "source": [
    "The above cleaning procedure has added -1 to NaN values in our modified columns and thus we will replace them with the mean of that column"
   ]
  },
  {
   "cell_type": "code",
   "execution_count": 48,
   "metadata": {
    "collapsed": false
   },
   "outputs": [],
   "source": [
    "significant_attributes = significant_attributes.replace(-1, np.nan)\n",
    "significant_attributes = significant_attributes.fillna(significant_attributes.mean())"
   ]
  },
  {
   "cell_type": "code",
   "execution_count": 49,
   "metadata": {
    "collapsed": false
   },
   "outputs": [],
   "source": [
    "b_attributes = np.sum(significant_attributes,axis=1)"
   ]
  },
  {
   "cell_type": "markdown",
   "metadata": {},
   "source": [
    "We now have the attribute score for every restaurant summed over all the significant attributes of the restaurants."
   ]
  },
  {
   "cell_type": "code",
   "execution_count": 50,
   "metadata": {
    "collapsed": false
   },
   "outputs": [],
   "source": [
    "b_attributes = np.round(b_attributes)"
   ]
  },
  {
   "cell_type": "code",
   "execution_count": 51,
   "metadata": {
    "collapsed": false
   },
   "outputs": [],
   "source": [
    "restaurants.loc[:,'rank_attributes'] = b_attributes.astype(\"category\").cat.codes\n",
    "rank_attributes = restaurants.loc[:,'rank_attributes']"
   ]
  },
  {
   "cell_type": "code",
   "execution_count": 52,
   "metadata": {
    "collapsed": false,
    "scrolled": true
   },
   "outputs": [
    {
     "data": {
      "text/plain": [
       "Index([u'business_id', u'business_index', u'categories', u'city',\n",
       "       u'full_address', u'hours.Friday.close', u'hours.Friday.open',\n",
       "       u'hours.Monday.close', u'hours.Monday.open', u'hours.Saturday.close',\n",
       "       u'hours.Saturday.open', u'hours.Sunday.close', u'hours.Sunday.open',\n",
       "       u'hours.Thursday.close', u'hours.Thursday.open', u'hours.Tuesday.close',\n",
       "       u'hours.Tuesday.open', u'hours.Wednesday.close',\n",
       "       u'hours.Wednesday.open', u'latitude', u'longitude', u'name',\n",
       "       u'neighborhoods', u'open', u'rank_attributes', u'rank_review_count',\n",
       "       u'rank_stars', u'restaurant_index', u'review_count', u'stars', u'state',\n",
       "       u'type'],\n",
       "      dtype='object')"
      ]
     },
     "execution_count": 52,
     "metadata": {},
     "output_type": "execute_result"
    }
   ],
   "source": [
    "restaurants.columns.difference(attributes)"
   ]
  },
  {
   "cell_type": "markdown",
   "metadata": {},
   "source": [
    "### Price Range"
   ]
  },
  {
   "cell_type": "code",
   "execution_count": 59,
   "metadata": {
    "collapsed": true
   },
   "outputs": [],
   "source": [
    "restaurants.loc[:,'rank_price_range'] = restaurants.loc[:,'attributes.Price Range']"
   ]
  },
  {
   "cell_type": "markdown",
   "metadata": {},
   "source": [
    "### Alcohol"
   ]
  },
  {
   "cell_type": "code",
   "execution_count": 61,
   "metadata": {
    "collapsed": true
   },
   "outputs": [],
   "source": [
    "restaurants.loc[:,'rank_alcohol'] = significant_attributes.loc[:,'attributes.Alcohol']"
   ]
  },
  {
   "cell_type": "markdown",
   "metadata": {},
   "source": [
    "### Friday Close Time"
   ]
  },
  {
   "cell_type": "code",
   "execution_count": 53,
   "metadata": {
    "collapsed": false
   },
   "outputs": [],
   "source": [
    "friday_close_times = restaurants['hours.Friday.close'].replace(r\"(\\d\\d):(\\d\\d)\",r'\\1\\2',regex=True)"
   ]
  },
  {
   "cell_type": "markdown",
   "metadata": {},
   "source": [
    "In the above operation, we would consider 0000 to be lesser than 2300, however we would want 0000 to have a higher value than 2300 which would imply that the restaurants that are open late in the night are out to be more popular than the ones that close early. Also, we will fill the nan values with the median as the majority of the restaurants will close at the median rather than the mean."
   ]
  },
  {
   "cell_type": "code",
   "execution_count": 54,
   "metadata": {
    "collapsed": false
   },
   "outputs": [],
   "source": [
    "friday_close_times  = pd.Series([x+2400 if x<0600 else x for x in friday_close_times.astype(float)])\n",
    "friday_close_times = friday_close_times.fillna(friday_close_times.median())\n",
    "restaurants.loc[:,'rank_friday_close_time'] = friday_close_times.astype(\"category\").cat.codes\n",
    "rank_friday_close_time = restaurants.loc[:,'rank_friday_close_time']"
   ]
  },
  {
   "cell_type": "markdown",
   "metadata": {},
   "source": [
    "We have the following ranks now\n",
    " - rank_stars\n",
    " - rank_review_count\n",
    " - rank_attributes\n",
    " - rank_price_range\n",
    " - rank_alcohol\n",
    " - rank_friday_close_time"
   ]
  },
  {
   "cell_type": "code",
   "execution_count": 55,
   "metadata": {
    "collapsed": true
   },
   "outputs": [],
   "source": [
    "rank_columns = ['rank_stars','rank_review_count', 'rank_attributes','rank_price_range','rank_alcohol','rank_friday_close_time']"
   ]
  },
  {
   "cell_type": "markdown",
   "metadata": {},
   "source": [
    "### Correlation between stars and review count"
   ]
  },
  {
   "cell_type": "code",
   "execution_count": 56,
   "metadata": {
    "collapsed": false
   },
   "outputs": [
    {
     "name": "stdout",
     "output_type": "stream",
     "text": [
      "0.167711187887 7.63599031017e-168\n"
     ]
    },
    {
     "data": {
      "image/png": "[encoded data removed]",
      "text/plain": [
       "<matplotlib.figure.Figure at 0x1509c0990>"
      ]
     },
     "metadata": {},
     "output_type": "display_data"
    }
   ],
   "source": [
    "col1 = rank_columns[0]\n",
    "col2 = rank_columns[1]\n",
    "r,p = spearmanr(restaurants.loc[:,col1], restaurants.loc[:,col2])\n",
    "print r,p\n",
    "do_permutation_test(restaurants.loc[:,col1], restaurants.loc[:,col2], col1, col2,r)"
   ]
  },
  {
   "cell_type": "markdown",
   "metadata": {},
   "source": [
    "The above plot shows that there slight positive correlation between stars and review count, which could mean that more the reviews lesser the stars, as more reviews would attract more critical reviews. And for unpopular restaurants we might have very few biased reviews. This justifies that there might be a slight negative correlation between stars and review count"
   ]
  },
  {
   "cell_type": "markdown",
   "metadata": {},
   "source": [
    "### Correlation between Stars and Attribute Score"
   ]
  },
  {
   "cell_type": "code",
   "execution_count": 57,
   "metadata": {
    "collapsed": false
   },
   "outputs": [
    {
     "name": "stdout",
     "output_type": "stream",
     "text": [
      "0.131099063717 9.01399585549e-103\n"
     ]
    },
    {
     "data": {
      "image/png": "[encoded data removed]",
      "text/plain": [
       "<matplotlib.figure.Figure at 0x1509d5190>"
      ]
     },
     "metadata": {},
     "output_type": "display_data"
    }
   ],
   "source": [
    "col1 = rank_columns[0]\n",
    "col2 = rank_columns[2]\n",
    "r,p = spearmanr(restaurants.loc[:,col1], restaurants.loc[:,col2])\n",
    "print r,p\n",
    "do_permutation_test(restaurants.loc[:,col1], restaurants.loc[:,col2], col1, col2,r)"
   ]
  },
  {
   "cell_type": "markdown",
   "metadata": {},
   "source": [
    "Restaurant Stars are based on different attributes of the restaurants, closing opening times, positive negative reviews, page visits and other amenities which in our case are attributes. We would expect the attribute score to give a fair idea about the restaurant stars. Here, we see a low positive correlation between stars and attribute score. A positive correlation is confirming but a low positive correaltion is a bit surprising."
   ]
  },
  {
   "cell_type": "markdown",
   "metadata": {},
   "source": [
    "### Correlation between Stars and Price Range"
   ]
  },
  {
   "cell_type": "code",
   "execution_count": 60,
   "metadata": {
    "collapsed": false
   },
   "outputs": [
    {
     "name": "stdout",
     "output_type": "stream",
     "text": [
      "0.0450062386828 1.81911467179e-13\n"
     ]
    },
    {
     "data": {
      "image/png": "[encoded data removed]",
      "text/plain": [
       "<matplotlib.figure.Figure at 0x1509c4950>"
      ]
     },
     "metadata": {},
     "output_type": "display_data"
    }
   ],
   "source": [
    "col1 = rank_columns[0]\n",
    "col2 = rank_columns[3]\n",
    "r,p = spearmanr(restaurants.loc[:,col1], restaurants.loc[:,col2])\n",
    "print r,p\n",
    "do_permutation_test(restaurants.loc[:,col1], restaurants.loc[:,col2], col1, col2,r)"
   ]
  },
  {
   "cell_type": "markdown",
   "metadata": {},
   "source": [
    "There is negligible positive correlation between stars and price range which might depict that more the stars, more the restaurant can charge for its services as Yelp imbibes a level of trust with its star rating. However the correlation is so low that we cannot consider it to be significant enough to draw any conclusions"
   ]
  },
  {
   "cell_type": "markdown",
   "metadata": {},
   "source": [
    "### Correaltion between Stars and Alcohol"
   ]
  },
  {
   "cell_type": "code",
   "execution_count": 62,
   "metadata": {
    "collapsed": false
   },
   "outputs": [
    {
     "name": "stdout",
     "output_type": "stream",
     "text": [
      "0.0235454169957 0.000118216586419\n"
     ]
    },
    {
     "data": {
      "image/png": "[encoded data removed]",
      "text/plain": [
       "<matplotlib.figure.Figure at 0x1509aedd0>"
      ]
     },
     "metadata": {},
     "output_type": "display_data"
    }
   ],
   "source": [
    "col1 = rank_columns[0]\n",
    "col2 = rank_columns[4]\n",
    "r,p = spearmanr(restaurants.loc[:,col1], restaurants.loc[:,col2])\n",
    "print r,p\n",
    "do_permutation_test(restaurants.loc[:,col1], restaurants.loc[:,col2], col1, col2,r)"
   ]
  },
  {
   "cell_type": "markdown",
   "metadata": {},
   "source": [
    "Again, the correlation is extremely low and cannot help us draw any concrete conclusions. "
   ]
  },
  {
   "cell_type": "markdown",
   "metadata": {},
   "source": [
    "### Correlation between Attribute Score and Review Count"
   ]
  },
  {
   "cell_type": "code",
   "execution_count": 63,
   "metadata": {
    "collapsed": false
   },
   "outputs": [
    {
     "name": "stdout",
     "output_type": "stream",
     "text": [
      "0.393235391688 0.0\n"
     ]
    },
    {
     "data": {
      "image/png": "[encoded data removed]",
      "text/plain": [
       "<matplotlib.figure.Figure at 0x1509d9ad0>"
      ]
     },
     "metadata": {},
     "output_type": "display_data"
    }
   ],
   "source": [
    "col1 = rank_columns[1]\n",
    "col2 = rank_columns[2]\n",
    "r,p = spearmanr(restaurants.loc[:,col1], restaurants.loc[:,col2])\n",
    "print r,p\n",
    "do_permutation_test(restaurants.loc[:,col1], restaurants.loc[:,col2], col1, col2,r)"
   ]
  },
  {
   "cell_type": "markdown",
   "metadata": {},
   "source": [
    "Review count and attribute score showcase a moderate positive correlation. One of the reasons why a positive correlation exists here is that users generally go to restaurants which have more amenities like WiFi, outdoor seating, alcohol etc. which is how our attribute score is calculated. Thus, when more people visit restaurants with higher attribute score, we have more number of reviews for those restaurants justifying the above correlation"
   ]
  },
  {
   "cell_type": "markdown",
   "metadata": {},
   "source": [
    "### Correlation between Review Count and Price Range"
   ]
  },
  {
   "cell_type": "code",
   "execution_count": 64,
   "metadata": {
    "collapsed": false
   },
   "outputs": [
    {
     "name": "stdout",
     "output_type": "stream",
     "text": [
      "-0.0247617979771 5.14942736307e-05\n"
     ]
    },
    {
     "data": {
      "image/png": "[encoded data removed]",
      "text/plain": [
       "<matplotlib.figure.Figure at 0x10b52df50>"
      ]
     },
     "metadata": {},
     "output_type": "display_data"
    }
   ],
   "source": [
    "col1 = rank_columns[1]\n",
    "col2 = rank_columns[3]\n",
    "r,p = spearmanr(restaurants.loc[:,col1], restaurants.loc[:,col2])\n",
    "print r,p\n",
    "do_permutation_test(restaurants.loc[:,col1], restaurants.loc[:,col2], col1, col2,r)"
   ]
  },
  {
   "cell_type": "markdown",
   "metadata": {},
   "source": [
    "Review Count and Price Range seem to have a reasonable low negative correlation. As expected, higher the price range the lesser the number of people being able to afford the restaurant. And thus lower the number of people reviewing the restaurant"
   ]
  },
  {
   "cell_type": "markdown",
   "metadata": {},
   "source": [
    "### Correaltion between Review Count and Alcohol"
   ]
  },
  {
   "cell_type": "code",
   "execution_count": 65,
   "metadata": {
    "collapsed": false
   },
   "outputs": [
    {
     "name": "stdout",
     "output_type": "stream",
     "text": [
      "0.176848177288 1.06949730324e-186\n"
     ]
    },
    {
     "data": {
      "image/png": "[encoded data removed]",
      "text/plain": [
       "<matplotlib.figure.Figure at 0x14fa92510>"
      ]
     },
     "metadata": {},
     "output_type": "display_data"
    }
   ],
   "source": [
    "col1 = rank_columns[1]\n",
    "col2 = rank_columns[4]\n",
    "r,p = spearmanr(restaurants.loc[:,col1], restaurants.loc[:,col2])\n",
    "print r,p\n",
    "do_permutation_test(restaurants.loc[:,col1], restaurants.loc[:,col2], col1, col2,r)"
   ]
  },
  {
   "cell_type": "markdown",
   "metadata": {},
   "source": [
    "Review Count and Alcohol seem to have a low positive correlation. A reasonable explanation of this might be that restaurants with full bars have more people coming and more people coming means more reviews. Also, as we might see later that Alcohol and Price Range have high correlation, we can also consider the same reasoning as for Review count and Price Range"
   ]
  },
  {
   "cell_type": "markdown",
   "metadata": {},
   "source": [
    "### Correlation between Attribute Score and Price Range"
   ]
  },
  {
   "cell_type": "code",
   "execution_count": 66,
   "metadata": {
    "collapsed": false
   },
   "outputs": [
    {
     "name": "stdout",
     "output_type": "stream",
     "text": [
      "0.522656976308 0.0\n"
     ]
    },
    {
     "data": {
      "image/png": "[encoded data removed]",
      "text/plain": [
       "<matplotlib.figure.Figure at 0x14fa90e10>"
      ]
     },
     "metadata": {},
     "output_type": "display_data"
    }
   ],
   "source": [
    "col1 = rank_columns[2]\n",
    "col2 = rank_columns[3]\n",
    "r,p = spearmanr(restaurants.loc[:,col1], restaurants.loc[:,col2])\n",
    "print r,p\n",
    "do_permutation_test(restaurants.loc[:,col1], restaurants.loc[:,col2], col1, col2,r)"
   ]
  },
  {
   "cell_type": "markdown",
   "metadata": {},
   "source": [
    "The Attributes score is a function of the price range which is why we are moderate to heavy positive correlation. The magnitude of the correlation shows how much our attribute is dependent on Price Range."
   ]
  },
  {
   "cell_type": "markdown",
   "metadata": {},
   "source": [
    "### Correlation between Attributes Score and Alcohol"
   ]
  },
  {
   "cell_type": "code",
   "execution_count": 67,
   "metadata": {
    "collapsed": false
   },
   "outputs": [
    {
     "name": "stdout",
     "output_type": "stream",
     "text": [
      "0.698888152007 0.0\n"
     ]
    },
    {
     "data": {
      "image/png": "[encoded data removed]",
      "text/plain": [
       "<matplotlib.figure.Figure at 0x1509b5310>"
      ]
     },
     "metadata": {},
     "output_type": "display_data"
    }
   ],
   "source": [
    "col1 = rank_columns[2]\n",
    "col2 = rank_columns[4]\n",
    "r,p = spearmanr(restaurants.loc[:,col1], restaurants.loc[:,col2])\n",
    "print r,p\n",
    "do_permutation_test(restaurants.loc[:,col1], restaurants.loc[:,col2], col1, col2,r)"
   ]
  },
  {
   "cell_type": "markdown",
   "metadata": {},
   "source": [
    "The Attributes score is a function of the alcohol score which means a positive correlation should exist between the two. Since the attribute score is calculated by summing all the attributes and alcohol had a major play in it we see such a high correaltion."
   ]
  },
  {
   "cell_type": "markdown",
   "metadata": {},
   "source": [
    "### Correlation between Restaurant Price Range and Alcohol"
   ]
  },
  {
   "cell_type": "code",
   "execution_count": 68,
   "metadata": {
    "collapsed": false
   },
   "outputs": [
    {
     "name": "stdout",
     "output_type": "stream",
     "text": [
      "0.524695321301 0.0\n"
     ]
    },
    {
     "data": {
      "image/png": "[encoded data removed]",
      "text/plain": [
       "<matplotlib.figure.Figure at 0x1509c4350>"
      ]
     },
     "metadata": {},
     "output_type": "display_data"
    }
   ],
   "source": [
    "col1 = rank_columns[3]\n",
    "col2 = rank_columns[4]\n",
    "r,p = spearmanr(restaurants.loc[:,col1], restaurants.loc[:,col2])\n",
    "print r,p\n",
    "do_permutation_test(restaurants.loc[:,col1], restaurants.loc[:,col2], col1, col2,r)"
   ]
  },
  {
   "cell_type": "markdown",
   "metadata": {},
   "source": [
    "The above plot shows that there is a moderate to heavy positive correlation between Price Range and Alcohol. Restaurants are of 3 types, they either have full bar, or serve only beer and vine or no alcohol. It is intuitive that restaurants that have full bars will have a highter price range and a high positive correlation "
   ]
  },
  {
   "cell_type": "markdown",
   "metadata": {},
   "source": [
    "### Correlation between Friday Close Time and Review Count"
   ]
  },
  {
   "cell_type": "code",
   "execution_count": 69,
   "metadata": {
    "collapsed": false,
    "scrolled": true
   },
   "outputs": [
    {
     "name": "stdout",
     "output_type": "stream",
     "text": [
      "0.0804065615249 1.37011001615e-39\n"
     ]
    },
    {
     "data": {
      "image/png": "[encoded data removed]",
      "text/plain": [
       "<matplotlib.figure.Figure at 0x1509ac390>"
      ]
     },
     "metadata": {},
     "output_type": "display_data"
    }
   ],
   "source": [
    "r, p = spearmanr(rank_review_count,rank_friday_close_time)\n",
    "print r, p\n",
    "do_permutation_test(rank_review_count,rank_friday_close_time, \"Friday Closing Time\",\"Review Count\", r)"
   ]
  },
  {
   "cell_type": "markdown",
   "metadata": {},
   "source": [
    "There is a very slight positive correlation between Friday Closing time and Review count. A high correaltion was expected as a restaurant which closes later in the night will naturally expect more customers which indirectly implies more reviews."
   ]
  },
  {
   "cell_type": "markdown",
   "metadata": {},
   "source": [
    "## Q4"
   ]
  },
  {
   "cell_type": "markdown",
   "metadata": {},
   "source": [
    "<b>Aggregate 5 ranking features as the prior of restaurants (instead of using uniform distribution priors). Rerun pagerank on the review network. Compare the new top 100 business with the ones from Question (2). Do they change? If yes, explain why they are desirable changes.</b>\n"
   ]
  },
  {
   "cell_type": "markdown",
   "metadata": {},
   "source": [
    "The ranking features from the previous question that can be used are stars and attribute score which essentially gives an overview of how good a particular restaurant is.\n",
    "In this question, we will create a graph using the NetworkKx library and assign priors to users and businesses such that reviews coming from good users have more weight than a regular user. \n",
    "In Q2, we considered a normal initial distribution and thus got results based on that. The results received in this question are expected to be better than the previous one."
   ]
  },
  {
   "cell_type": "code",
   "execution_count": 70,
   "metadata": {
    "collapsed": true
   },
   "outputs": [],
   "source": [
    "G = nx.Graph()"
   ]
  },
  {
   "cell_type": "code",
   "execution_count": 71,
   "metadata": {
    "collapsed": false
   },
   "outputs": [
    {
     "data": {
      "text/plain": [
       "713285"
      ]
     },
     "execution_count": 71,
     "metadata": {},
     "output_type": "execute_result"
    }
   ],
   "source": [
    "nodes = restaurants.index.append(users['user_index']+ len(restaurants))\n",
    "len(nodes)"
   ]
  },
  {
   "cell_type": "code",
   "execution_count": 72,
   "metadata": {
    "collapsed": false
   },
   "outputs": [],
   "source": [
    "G.add_nodes_from(nodes)"
   ]
  },
  {
   "cell_type": "code",
   "execution_count": 73,
   "metadata": {
    "collapsed": false
   },
   "outputs": [
    {
     "data": {
      "text/plain": [
       "[713283, 713284]"
      ]
     },
     "execution_count": 73,
     "metadata": {},
     "output_type": "execute_result"
    }
   ],
   "source": [
    "G.node.keys()[-2:]"
   ]
  },
  {
   "cell_type": "code",
   "execution_count": 74,
   "metadata": {
    "collapsed": true
   },
   "outputs": [],
   "source": [
    "G.add_edges_from(zip(row_index,column_index))"
   ]
  },
  {
   "cell_type": "markdown",
   "metadata": {},
   "source": [
    "Th below function will return the top 100 values given the output from the page rank function of the networkx library"
   ]
  },
  {
   "cell_type": "code",
   "execution_count": 75,
   "metadata": {
    "collapsed": false
   },
   "outputs": [],
   "source": [
    "import operator\n",
    "def get_top100_from_pageRank(pr_prior):\n",
    "    rest_pr = zip(pr_prior.keys()[: len(restaurants)],pr_prior.values()[: len(restaurants)])\n",
    "    rest_pr = dict(rest_pr)\n",
    "    sorted_pr = sorted(rest_pr.items(), key=operator.itemgetter(1))[-100:]\n",
    "    sorted_pr = map(list, sorted_pr)\n",
    "    sorted_indexes = np.array(sorted_pr)[:,0]\n",
    "    return  restaurants.iloc[sorted_indexes[::-1]]"
   ]
  },
  {
   "cell_type": "code",
   "execution_count": 76,
   "metadata": {
    "collapsed": false
   },
   "outputs": [],
   "source": [
    "user_score = pd.Series([1]* len(users), index=users['user_index']+len(restaurants))\n",
    "rest_ranks = restaurants['rank_attributes'].fillna(restaurants['rank_attributes'].mean())\n",
    "rest_score_dict = rest_ranks.append(user_score).to_dict()"
   ]
  },
  {
   "cell_type": "code",
   "execution_count": 77,
   "metadata": {
    "collapsed": false,
    "scrolled": false
   },
   "outputs": [
    {
     "name": "stdout",
     "output_type": "stream",
     "text": [
      "CPU times: user 31.6 s, sys: 1.07 s, total: 32.6 s\n",
      "Wall time: 32.7 s\n"
     ]
    }
   ],
   "source": [
    "%time pr_prior_user_score = nx.pagerank_scipy(G,personalization=rest_score_dict)"
   ]
  },
  {
   "cell_type": "code",
   "execution_count": 78,
   "metadata": {
    "collapsed": false,
    "scrolled": false
   },
   "outputs": [],
   "source": [
    "top_100_rest_priors = get_top100_from_pageRank(pr_prior_user_score)"
   ]
  },
  {
   "cell_type": "markdown",
   "metadata": {},
   "source": [
    "We are now comparing the indexes of top 100 restaurants from Q2 and the top100 from above."
   ]
  },
  {
   "cell_type": "code",
   "execution_count": 79,
   "metadata": {
    "collapsed": false
   },
   "outputs": [
    {
     "data": {
      "text/plain": [
       "[Int64Index([20002,  5484, 18058,  4391, 23809, 18991, 19689, 25974, 23855,\n",
       "             15884, 17470, 22879, 13446,  5512,  5493, 18629,  5705,  5413,\n",
       "              5580, 12491, 22194, 11840,  7804,  5408,  5938,  5597, 10831,\n",
       "              5516,  1334,  5487, 21602,  5414, 15914,  5136,  4688,  4183,\n",
       "             21083, 22269,  5415, 21609, 16454, 11448,  5644, 24985, 12924,\n",
       "             21901, 17514, 19939, 16669,  5476, 13168, 19386, 20490, 16262,\n",
       "              5613,  9152,  9390,  8127,  8307, 22806,  5631, 24066,  3717,\n",
       "             22625,  3038,  5538,  2479,  4863, 11993, 15892,  5491, 24379,\n",
       "              5138, 22926,  4924, 14405,  5756, 15854, 14146, 24028, 11522,\n",
       "              5494,  5261,  5608,  4992,  5843,  4844, 12088, 17294,  5642,\n",
       "             14680,  4822, 19967,   903, 15342,  4439,  7476, 11010, 24265,\n",
       "             24063],\n",
       "            dtype='int64', name=u'restaurant_index'),\n",
       " Int64Index([ 5484, 20002, 18991, 19689, 15884,  7804, 13446, 11840,  5580,\n",
       "              5516,  5408,  5493, 18058, 15914,  5843,  5415,  5705, 22879,\n",
       "             14405, 15854,  5487,  5414,  5538, 22625,  5491,  2479, 17514,\n",
       "             22806,  8307,  9199,  5631, 24066,  4992, 16669,  5386,  5494,\n",
       "              7279,  5912, 14680,  4439,  5732, 11706, 12088, 18969,  5138,\n",
       "             25219,  5517,  9072, 12924, 11448,  5608,  5518,  5477,  5389,\n",
       "             20859, 10345, 11010,  5852, 11522,  2801,  1202,  5044, 16562,\n",
       "              7476,  4950, 16262, 16003, 13174,  7525, 14105,  5136,  5563,\n",
       "              6106,  6036,  1046,  8576, 18428,  8104,  5572,  5025, 15892,\n",
       "              2517,  8240, 24379,  5426, 21371, 20588, 15580, 19923,  3717,\n",
       "             19252,  5949,  5892, 24028, 14450,  5510, 22990, 15342,  5513,\n",
       "              1081],\n",
       "            dtype='int64', name=u'restaurant_index')]"
      ]
     },
     "execution_count": 79,
     "metadata": {},
     "output_type": "execute_result"
    }
   ],
   "source": [
    "[top_100.index, top_100_rest_priors.index]"
   ]
  },
  {
   "cell_type": "markdown",
   "metadata": {},
   "source": [
    "As we had expected, the PageRanks from both the methods are different. Most of the values are either in different orders or are different altogether. We see that the top values from both are the interchanged, however they still are top2 means that the number of reviews for them must be really high and it has a greater impact on the resulting rank as compared to our attribute score.\n",
    "\n",
    "With priors the PageRank generated aligns much more to the true ranking of the restaurant as not every restaurant is ranked equally in th real world. Every restaurant is different and one might have an upper edge to other just by some of its attributes like location, open hours etc and we must take this into consideration while calculating ranks"
   ]
  },
  {
   "cell_type": "markdown",
   "metadata": {},
   "source": [
    "### Improvisations (Thoughts)"
   ]
  },
  {
   "cell_type": "code",
   "execution_count": 80,
   "metadata": {
    "collapsed": false
   },
   "outputs": [
    {
     "data": {
      "text/plain": [
       "Index([u'yelping_since', u'compliments.plain', u'review_count', u'friends',\n",
       "       u'compliments.cute', u'compliments.writer', u'fans',\n",
       "       u'compliments.note', u'type', u'compliments.hot', u'compliments.cool',\n",
       "       u'compliments.profile', u'average_stars', u'compliments.more', u'elite',\n",
       "       u'name', u'user_id', u'votes.cool', u'compliments.list', u'votes.funny',\n",
       "       u'compliments.photos', u'compliments.funny', u'votes.useful',\n",
       "       u'user_index'],\n",
       "      dtype='object')"
      ]
     },
     "execution_count": 80,
     "metadata": {},
     "output_type": "execute_result"
    }
   ],
   "source": [
    "users.columns"
   ]
  },
  {
   "cell_type": "markdown",
   "metadata": {},
   "source": [
    "However, since pagerank deals with incoming and outgoing edges, ranking both the restaurants and the users make more sense than setting all user ranks to a constant. And adding weights to user nodes will give us much more reliable rankings as naturally a higher rated users vote towards a restaurant should count more than a lower rated user\n",
    "\n",
    "We will calculate scores for users based on a few factors as below:\n",
    "- 'votes.useful'\n",
    "- 'review_count'\n",
    "- 'elite'\n"
   ]
  },
  {
   "cell_type": "code",
   "execution_count": 81,
   "metadata": {
    "collapsed": false,
    "scrolled": true
   },
   "outputs": [],
   "source": [
    "elite_ranks = pd.Series(map(len,users['elite']))/5"
   ]
  },
  {
   "cell_type": "code",
   "execution_count": 82,
   "metadata": {
    "collapsed": false,
    "scrolled": true
   },
   "outputs": [],
   "source": [
    "user_review_count = users['review_count']\n",
    "user_review_rank = np.log(user_review_count.where(user_review_count>0))\n",
    "user_review_zscore = (user_review_rank - user_review_rank.mean())/user_review_rank.std(ddof=0)"
   ]
  },
  {
   "cell_type": "code",
   "execution_count": 83,
   "metadata": {
    "collapsed": false
   },
   "outputs": [],
   "source": [
    "votes_useful = users['votes.useful']\n",
    "votes_useful_rank = np.log(votes_useful.where(votes_useful>=1))\n",
    "votes_useful_rank.fillna(0,inplace=True)\n",
    "votes_useful_zscore = (votes_useful_rank - votes_useful_rank.mean())/votes_useful_rank.std(ddof=0)"
   ]
  },
  {
   "cell_type": "markdown",
   "metadata": {},
   "source": [
    "Our user score will be sum of elite_ranks + user_review_rank + votes_useful_rank. "
   ]
  },
  {
   "cell_type": "code",
   "execution_count": 84,
   "metadata": {
    "collapsed": false
   },
   "outputs": [],
   "source": [
    "user_score = elite_ranks + user_review_rank + votes_useful_rank"
   ]
  },
  {
   "cell_type": "markdown",
   "metadata": {},
   "source": [
    "We will score our user nodes with user_score and business nodes with 1 for our pagerank algorithm"
   ]
  },
  {
   "cell_type": "code",
   "execution_count": 85,
   "metadata": {
    "collapsed": false
   },
   "outputs": [],
   "source": [
    "business_score = pd.Series([1] * len(businesses))\n",
    "nodes_score = business_score.append(user_score)\n",
    "nodes_score_dict = dict(enumerate(nodes_score))"
   ]
  },
  {
   "cell_type": "code",
   "execution_count": 86,
   "metadata": {
    "collapsed": false
   },
   "outputs": [],
   "source": [
    "edge_weights = ubr['stars_x']"
   ]
  },
  {
   "cell_type": "markdown",
   "metadata": {
    "collapsed": true
   },
   "source": [
    "We can use the nodes_score_dict which is the scoring of users to calculate the Page Rank and we can expect much better results on the restaurants ranking.\n",
    "Also we can add edge weights to every edge with the Rating provided by the user and this will improve the Page Rank results even more"
   ]
  },
  {
   "cell_type": "markdown",
   "metadata": {
    "collapsed": true
   },
   "source": [
    "##### End of HW3"
   ]
  }
 ],
 "metadata": {
  "kernelspec": {
   "display_name": "Python 2",
   "language": "python",
   "name": "python2"
  },
  "language_info": {
   "codemirror_mode": {
    "name": "ipython",
    "version": 2
   },
   "file_extension": ".py",
   "mimetype": "text/x-python",
   "name": "python",
   "nbconvert_exporter": "python",
   "pygments_lexer": "ipython2",
   "version": "2.7.10"
  }
 },
 "nbformat": 4,
 "nbformat_minor": 1
}
